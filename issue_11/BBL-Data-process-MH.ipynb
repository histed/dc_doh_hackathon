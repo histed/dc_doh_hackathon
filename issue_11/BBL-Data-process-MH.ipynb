{
 "cells": [
  {
   "cell_type": "markdown",
   "metadata": {},
   "source": [
    "### notebook purpose\n",
    "- following issue #11:  https://github.com/jasonasher/dc_doh_hackathon/issues/11\n",
    "extract data from csv and write a new csv\n",
    "\n",
    "- mhisted@gmail.com  171024"
   ]
  },
  {
   "cell_type": "code",
   "execution_count": 1,
   "metadata": {},
   "outputs": [],
   "source": [
    "import pandas as pd"
   ]
  },
  {
   "cell_type": "code",
   "execution_count": 3,
   "metadata": {},
   "outputs": [],
   "source": [
    "# constants\n",
    "fName = 'Basic_Business_License_in_2015.csv'\n"
   ]
  },
  {
   "cell_type": "code",
   "execution_count": 6,
   "metadata": {},
   "outputs": [
    {
     "name": "stdout",
     "output_type": "stream",
     "text": [
      "Index(['X', 'Y', 'OBJECTID', 'BBL_LICENSE_FACT_ID', 'LICENSESTATUS',\n",
      "       'LICENSECATEGORY', 'CUST_NUM', 'TRADE_NAME', 'LICENSE_START_DATE',\n",
      "       'LICENSE_EXPIRATION_DATE', 'LICENSE_ISSUE_DATE', 'AGENT_PHONE',\n",
      "       'LASTMODIFIEDDATE', 'CITY', 'STATE', 'SITEADDRESS', 'LATITUDE',\n",
      "       'LONGITUDE', 'XCOORD', 'YCOORD', 'ZIPCODE', 'MARADDRESSREPOSITORYID',\n",
      "       'DCSTATADDRESSKEY', 'DCSTATLOCATIONKEY', 'WARD', 'ANC', 'SMD',\n",
      "       'DISTRICT', 'PSA', 'NEIGHBORHOODCLUSTER', 'HOTSPOT2006NAME',\n",
      "       'HOTSPOT2005NAME', 'HOTSPOT2004NAME', 'BUSINESSIMPROVEMENTDISTRICT'],\n",
      "      dtype='object')\n"
     ]
    }
   ],
   "source": [
    "df = pd.read_csv(fName)\n",
    "\n",
    "print(df.columns)"
   ]
  },
  {
   "cell_type": "code",
   "execution_count": 7,
   "metadata": {},
   "outputs": [
    {
     "data": {
      "text/plain": [
       "X                                              -76.9982\n",
       "Y                                               38.9199\n",
       "OBJECTID                                       18144490\n",
       "BBL_LICENSE_FACT_ID                              314565\n",
       "LICENSESTATUS                                    ACTIVE\n",
       "LICENSECATEGORY                 Charitable Solicitation\n",
       "CUST_NUM                                   400216000079\n",
       "TRADE_NAME                             RESTORATION 1:99\n",
       "LICENSE_START_DATE             2015-12-01T00:00:00.000Z\n",
       "LICENSE_EXPIRATION_DATE        2017-11-30T00:00:00.000Z\n",
       "LICENSE_ISSUE_DATE             2015-12-09T00:00:00.000Z\n",
       "AGENT_PHONE                                  2022136025\n",
       "LASTMODIFIEDDATE               2017-06-20T15:10:13.000Z\n",
       "CITY                                         WASHINGTON\n",
       "STATE                                                DC\n",
       "SITEADDRESS                             600 W STREET NE\n",
       "LATITUDE                                        38.9198\n",
       "LONGITUDE                                      -76.9982\n",
       "XCOORD                                           400158\n",
       "YCOORD                                           139108\n",
       "ZIPCODE                                           20002\n",
       "MARADDRESSREPOSITORYID                           290190\n",
       "DCSTATADDRESSKEY                                 129075\n",
       "DCSTATLOCATIONKEY                                129075\n",
       "WARD                                                  5\n",
       "ANC                                                  5C\n",
       "SMD                                                5C05\n",
       "DISTRICT                                          FIFTH\n",
       "PSA                                                 502\n",
       "NEIGHBORHOODCLUSTER                                  21\n",
       "HOTSPOT2006NAME                                    NONE\n",
       "HOTSPOT2005NAME                                    NONE\n",
       "HOTSPOT2004NAME                                    NONE\n",
       "BUSINESSIMPROVEMENTDISTRICT                        NONE\n",
       "Name: 0, dtype: object"
      ]
     },
     "execution_count": 7,
     "metadata": {},
     "output_type": "execute_result"
    }
   ],
   "source": [
    "df.iloc[0,:]"
   ]
  }
 ],
 "metadata": {
  "kernelspec": {
   "display_name": "Python [brian_mkl30]",
   "language": "python",
   "name": "Python [brian_mkl30]"
  },
  "language_info": {
   "codemirror_mode": {
    "name": "ipython",
    "version": 3
   },
   "file_extension": ".py",
   "mimetype": "text/x-python",
   "name": "python",
   "nbconvert_exporter": "python",
   "pygments_lexer": "ipython3",
   "version": "3.5.4"
  }
 },
 "nbformat": 4,
 "nbformat_minor": 2
}
